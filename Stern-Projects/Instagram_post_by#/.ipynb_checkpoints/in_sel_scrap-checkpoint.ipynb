{
 "cells": [
  {
   "cell_type": "code",
   "execution_count": null,
   "metadata": {
    "collapsed": false
   },
   "outputs": [
    {
     "name": "stdout",
     "output_type": "stream",
     "text": [
      "#amitesh • Instagram photos and videos\n",
      "<selenium.webdriver.remote.webelement.WebElement (session=\"1a0d7c20-852e-11e6-84a7-bf875fc3111d\", element=\":wdc:1475034378143\")>\n",
      "last:3978\n",
      "New:5262:0\n",
      "length:[<selenium.webdriver.remote.webelement.WebElement (session=\"1a0d7c20-852e-11e6-84a7-bf875fc3111d\", element=\":wdc:1475034378144\")>, <selenium.webdriver.remote.webelement.WebElement (session=\"1a0d7c20-852e-11e6-84a7-bf875fc3111d\", element=\":wdc:1475034378145\")>, <selenium.webdriver.remote.webelement.WebElement (session=\"1a0d7c20-852e-11e6-84a7-bf875fc3111d\", element=\":wdc:1475034378146\")>, <selenium.webdriver.remote.webelement.WebElement (session=\"1a0d7c20-852e-11e6-84a7-bf875fc3111d\", element=\":wdc:1475034378147\")>, <selenium.webdriver.remote.webelement.WebElement (session=\"1a0d7c20-852e-11e6-84a7-bf875fc3111d\", element=\":wdc:1475034378148\")>, <selenium.webdriver.remote.webelement.WebElement (session=\"1a0d7c20-852e-11e6-84a7-bf875fc3111d\", element=\":wdc:1475034378149\")>, <selenium.webdriver.remote.webelement.WebElement (session=\"1a0d7c20-852e-11e6-84a7-bf875fc3111d\", element=\":wdc:1475034378150\")>, <selenium.webdriver.remote.webelement.WebElement (session=\"1a0d7c20-852e-11e6-84a7-bf875fc3111d\", element=\":wdc:1475034378151\")>, <selenium.webdriver.remote.webelement.WebElement (session=\"1a0d7c20-852e-11e6-84a7-bf875fc3111d\", element=\":wdc:1475034378152\")>, <selenium.webdriver.remote.webelement.WebElement (session=\"1a0d7c20-852e-11e6-84a7-bf875fc3111d\", element=\":wdc:1475034378153\")>, <selenium.webdriver.remote.webelement.WebElement (session=\"1a0d7c20-852e-11e6-84a7-bf875fc3111d\", element=\":wdc:1475034378154\")>, <selenium.webdriver.remote.webelement.WebElement (session=\"1a0d7c20-852e-11e6-84a7-bf875fc3111d\", element=\":wdc:1475034378155\")>, <selenium.webdriver.remote.webelement.WebElement (session=\"1a0d7c20-852e-11e6-84a7-bf875fc3111d\", element=\":wdc:1475034378156\")>, <selenium.webdriver.remote.webelement.WebElement (session=\"1a0d7c20-852e-11e6-84a7-bf875fc3111d\", element=\":wdc:1475034378157\")>, <selenium.webdriver.remote.webelement.WebElement (session=\"1a0d7c20-852e-11e6-84a7-bf875fc3111d\", element=\":wdc:1475034378158\")>, <selenium.webdriver.remote.webelement.WebElement (session=\"1a0d7c20-852e-11e6-84a7-bf875fc3111d\", element=\":wdc:1475034378159\")>, <selenium.webdriver.remote.webelement.WebElement (session=\"1a0d7c20-852e-11e6-84a7-bf875fc3111d\", element=\":wdc:1475034378160\")>, <selenium.webdriver.remote.webelement.WebElement (session=\"1a0d7c20-852e-11e6-84a7-bf875fc3111d\", element=\":wdc:1475034378161\")>, <selenium.webdriver.remote.webelement.WebElement (session=\"1a0d7c20-852e-11e6-84a7-bf875fc3111d\", element=\":wdc:1475034378162\")>, <selenium.webdriver.remote.webelement.WebElement (session=\"1a0d7c20-852e-11e6-84a7-bf875fc3111d\", element=\":wdc:1475034378163\")>, <selenium.webdriver.remote.webelement.WebElement (session=\"1a0d7c20-852e-11e6-84a7-bf875fc3111d\", element=\":wdc:1475034378164\")>, <selenium.webdriver.remote.webelement.WebElement (session=\"1a0d7c20-852e-11e6-84a7-bf875fc3111d\", element=\":wdc:1475034378165\")>, <selenium.webdriver.remote.webelement.WebElement (session=\"1a0d7c20-852e-11e6-84a7-bf875fc3111d\", element=\":wdc:1475034378166\")>, <selenium.webdriver.remote.webelement.WebElement (session=\"1a0d7c20-852e-11e6-84a7-bf875fc3111d\", element=\":wdc:1475034378167\")>, <selenium.webdriver.remote.webelement.WebElement (session=\"1a0d7c20-852e-11e6-84a7-bf875fc3111d\", element=\":wdc:1475034378168\")>, <selenium.webdriver.remote.webelement.WebElement (session=\"1a0d7c20-852e-11e6-84a7-bf875fc3111d\", element=\":wdc:1475034378169\")>, <selenium.webdriver.remote.webelement.WebElement (session=\"1a0d7c20-852e-11e6-84a7-bf875fc3111d\", element=\":wdc:1475034378170\")>, <selenium.webdriver.remote.webelement.WebElement (session=\"1a0d7c20-852e-11e6-84a7-bf875fc3111d\", element=\":wdc:1475034378171\")>, <selenium.webdriver.remote.webelement.WebElement (session=\"1a0d7c20-852e-11e6-84a7-bf875fc3111d\", element=\":wdc:1475034378172\")>, <selenium.webdriver.remote.webelement.WebElement (session=\"1a0d7c20-852e-11e6-84a7-bf875fc3111d\", element=\":wdc:1475034378173\")>, <selenium.webdriver.remote.webelement.WebElement (session=\"1a0d7c20-852e-11e6-84a7-bf875fc3111d\", element=\":wdc:1475034378174\")>, <selenium.webdriver.remote.webelement.WebElement (session=\"1a0d7c20-852e-11e6-84a7-bf875fc3111d\", element=\":wdc:1475034378175\")>, <selenium.webdriver.remote.webelement.WebElement (session=\"1a0d7c20-852e-11e6-84a7-bf875fc3111d\", element=\":wdc:1475034378176\")>, <selenium.webdriver.remote.webelement.WebElement (session=\"1a0d7c20-852e-11e6-84a7-bf875fc3111d\", element=\":wdc:1475034378177\")>, <selenium.webdriver.remote.webelement.WebElement (session=\"1a0d7c20-852e-11e6-84a7-bf875fc3111d\", element=\":wdc:1475034378178\")>, <selenium.webdriver.remote.webelement.WebElement (session=\"1a0d7c20-852e-11e6-84a7-bf875fc3111d\", element=\":wdc:1475034378179\")>, <selenium.webdriver.remote.webelement.WebElement (session=\"1a0d7c20-852e-11e6-84a7-bf875fc3111d\", element=\":wdc:1475034378180\")>, <selenium.webdriver.remote.webelement.WebElement (session=\"1a0d7c20-852e-11e6-84a7-bf875fc3111d\", element=\":wdc:1475034378181\")>, <selenium.webdriver.remote.webelement.WebElement (session=\"1a0d7c20-852e-11e6-84a7-bf875fc3111d\", element=\":wdc:1475034378182\")>, <selenium.webdriver.remote.webelement.WebElement (session=\"1a0d7c20-852e-11e6-84a7-bf875fc3111d\", element=\":wdc:1475034378183\")>, <selenium.webdriver.remote.webelement.WebElement (session=\"1a0d7c20-852e-11e6-84a7-bf875fc3111d\", element=\":wdc:1475034378184\")>, <selenium.webdriver.remote.webelement.WebElement (session=\"1a0d7c20-852e-11e6-84a7-bf875fc3111d\", element=\":wdc:1475034378185\")>, <selenium.webdriver.remote.webelement.WebElement (session=\"1a0d7c20-852e-11e6-84a7-bf875fc3111d\", element=\":wdc:1475034378186\")>, <selenium.webdriver.remote.webelement.WebElement (session=\"1a0d7c20-852e-11e6-84a7-bf875fc3111d\", element=\":wdc:1475034378187\")>, <selenium.webdriver.remote.webelement.WebElement (session=\"1a0d7c20-852e-11e6-84a7-bf875fc3111d\", element=\":wdc:1475034378188\")>]\n",
      "New:6546:1\n",
      "length:[<selenium.webdriver.remote.webelement.WebElement (session=\"1a0d7c20-852e-11e6-84a7-bf875fc3111d\", element=\":wdc:1475034378144\")>, <selenium.webdriver.remote.webelement.WebElement (session=\"1a0d7c20-852e-11e6-84a7-bf875fc3111d\", element=\":wdc:1475034378145\")>, <selenium.webdriver.remote.webelement.WebElement (session=\"1a0d7c20-852e-11e6-84a7-bf875fc3111d\", element=\":wdc:1475034378146\")>, <selenium.webdriver.remote.webelement.WebElement (session=\"1a0d7c20-852e-11e6-84a7-bf875fc3111d\", element=\":wdc:1475034378147\")>, <selenium.webdriver.remote.webelement.WebElement (session=\"1a0d7c20-852e-11e6-84a7-bf875fc3111d\", element=\":wdc:1475034378148\")>, <selenium.webdriver.remote.webelement.WebElement (session=\"1a0d7c20-852e-11e6-84a7-bf875fc3111d\", element=\":wdc:1475034378149\")>, <selenium.webdriver.remote.webelement.WebElement (session=\"1a0d7c20-852e-11e6-84a7-bf875fc3111d\", element=\":wdc:1475034378150\")>, <selenium.webdriver.remote.webelement.WebElement (session=\"1a0d7c20-852e-11e6-84a7-bf875fc3111d\", element=\":wdc:1475034378151\")>, <selenium.webdriver.remote.webelement.WebElement (session=\"1a0d7c20-852e-11e6-84a7-bf875fc3111d\", element=\":wdc:1475034378152\")>, <selenium.webdriver.remote.webelement.WebElement (session=\"1a0d7c20-852e-11e6-84a7-bf875fc3111d\", element=\":wdc:1475034378153\")>, <selenium.webdriver.remote.webelement.WebElement (session=\"1a0d7c20-852e-11e6-84a7-bf875fc3111d\", element=\":wdc:1475034378154\")>, <selenium.webdriver.remote.webelement.WebElement (session=\"1a0d7c20-852e-11e6-84a7-bf875fc3111d\", element=\":wdc:1475034378155\")>, <selenium.webdriver.remote.webelement.WebElement (session=\"1a0d7c20-852e-11e6-84a7-bf875fc3111d\", element=\":wdc:1475034378156\")>, <selenium.webdriver.remote.webelement.WebElement (session=\"1a0d7c20-852e-11e6-84a7-bf875fc3111d\", element=\":wdc:1475034378157\")>, <selenium.webdriver.remote.webelement.WebElement (session=\"1a0d7c20-852e-11e6-84a7-bf875fc3111d\", element=\":wdc:1475034378158\")>, <selenium.webdriver.remote.webelement.WebElement (session=\"1a0d7c20-852e-11e6-84a7-bf875fc3111d\", element=\":wdc:1475034378159\")>, <selenium.webdriver.remote.webelement.WebElement (session=\"1a0d7c20-852e-11e6-84a7-bf875fc3111d\", element=\":wdc:1475034378160\")>, <selenium.webdriver.remote.webelement.WebElement (session=\"1a0d7c20-852e-11e6-84a7-bf875fc3111d\", element=\":wdc:1475034378161\")>, <selenium.webdriver.remote.webelement.WebElement (session=\"1a0d7c20-852e-11e6-84a7-bf875fc3111d\", element=\":wdc:1475034378162\")>, <selenium.webdriver.remote.webelement.WebElement (session=\"1a0d7c20-852e-11e6-84a7-bf875fc3111d\", element=\":wdc:1475034378163\")>, <selenium.webdriver.remote.webelement.WebElement (session=\"1a0d7c20-852e-11e6-84a7-bf875fc3111d\", element=\":wdc:1475034378164\")>, <selenium.webdriver.remote.webelement.WebElement (session=\"1a0d7c20-852e-11e6-84a7-bf875fc3111d\", element=\":wdc:1475034378165\")>, <selenium.webdriver.remote.webelement.WebElement (session=\"1a0d7c20-852e-11e6-84a7-bf875fc3111d\", element=\":wdc:1475034378166\")>, <selenium.webdriver.remote.webelement.WebElement (session=\"1a0d7c20-852e-11e6-84a7-bf875fc3111d\", element=\":wdc:1475034378167\")>, <selenium.webdriver.remote.webelement.WebElement (session=\"1a0d7c20-852e-11e6-84a7-bf875fc3111d\", element=\":wdc:1475034378168\")>, <selenium.webdriver.remote.webelement.WebElement (session=\"1a0d7c20-852e-11e6-84a7-bf875fc3111d\", element=\":wdc:1475034378169\")>, <selenium.webdriver.remote.webelement.WebElement (session=\"1a0d7c20-852e-11e6-84a7-bf875fc3111d\", element=\":wdc:1475034378170\")>, <selenium.webdriver.remote.webelement.WebElement (session=\"1a0d7c20-852e-11e6-84a7-bf875fc3111d\", element=\":wdc:1475034378171\")>, <selenium.webdriver.remote.webelement.WebElement (session=\"1a0d7c20-852e-11e6-84a7-bf875fc3111d\", element=\":wdc:1475034378172\")>, <selenium.webdriver.remote.webelement.WebElement (session=\"1a0d7c20-852e-11e6-84a7-bf875fc3111d\", element=\":wdc:1475034378173\")>, <selenium.webdriver.remote.webelement.WebElement (session=\"1a0d7c20-852e-11e6-84a7-bf875fc3111d\", element=\":wdc:1475034378174\")>, <selenium.webdriver.remote.webelement.WebElement (session=\"1a0d7c20-852e-11e6-84a7-bf875fc3111d\", element=\":wdc:1475034378175\")>, <selenium.webdriver.remote.webelement.WebElement (session=\"1a0d7c20-852e-11e6-84a7-bf875fc3111d\", element=\":wdc:1475034378176\")>, <selenium.webdriver.remote.webelement.WebElement (session=\"1a0d7c20-852e-11e6-84a7-bf875fc3111d\", element=\":wdc:1475034378177\")>, <selenium.webdriver.remote.webelement.WebElement (session=\"1a0d7c20-852e-11e6-84a7-bf875fc3111d\", element=\":wdc:1475034378178\")>, <selenium.webdriver.remote.webelement.WebElement (session=\"1a0d7c20-852e-11e6-84a7-bf875fc3111d\", element=\":wdc:1475034378179\")>, <selenium.webdriver.remote.webelement.WebElement (session=\"1a0d7c20-852e-11e6-84a7-bf875fc3111d\", element=\":wdc:1475034378180\")>, <selenium.webdriver.remote.webelement.WebElement (session=\"1a0d7c20-852e-11e6-84a7-bf875fc3111d\", element=\":wdc:1475034378181\")>, <selenium.webdriver.remote.webelement.WebElement (session=\"1a0d7c20-852e-11e6-84a7-bf875fc3111d\", element=\":wdc:1475034378182\")>, <selenium.webdriver.remote.webelement.WebElement (session=\"1a0d7c20-852e-11e6-84a7-bf875fc3111d\", element=\":wdc:1475034378183\")>, <selenium.webdriver.remote.webelement.WebElement (session=\"1a0d7c20-852e-11e6-84a7-bf875fc3111d\", element=\":wdc:1475034378184\")>, <selenium.webdriver.remote.webelement.WebElement (session=\"1a0d7c20-852e-11e6-84a7-bf875fc3111d\", element=\":wdc:1475034378185\")>, <selenium.webdriver.remote.webelement.WebElement (session=\"1a0d7c20-852e-11e6-84a7-bf875fc3111d\", element=\":wdc:1475034378186\")>, <selenium.webdriver.remote.webelement.WebElement (session=\"1a0d7c20-852e-11e6-84a7-bf875fc3111d\", element=\":wdc:1475034378187\")>, <selenium.webdriver.remote.webelement.WebElement (session=\"1a0d7c20-852e-11e6-84a7-bf875fc3111d\", element=\":wdc:1475034378188\")>, <selenium.webdriver.remote.webelement.WebElement (session=\"1a0d7c20-852e-11e6-84a7-bf875fc3111d\", element=\":wdc:1475034378189\")>, <selenium.webdriver.remote.webelement.WebElement (session=\"1a0d7c20-852e-11e6-84a7-bf875fc3111d\", element=\":wdc:1475034378190\")>, <selenium.webdriver.remote.webelement.WebElement (session=\"1a0d7c20-852e-11e6-84a7-bf875fc3111d\", element=\":wdc:1475034378191\")>, <selenium.webdriver.remote.webelement.WebElement (session=\"1a0d7c20-852e-11e6-84a7-bf875fc3111d\", element=\":wdc:1475034378192\")>, <selenium.webdriver.remote.webelement.WebElement (session=\"1a0d7c20-852e-11e6-84a7-bf875fc3111d\", element=\":wdc:1475034378193\")>, <selenium.webdriver.remote.webelement.WebElement (session=\"1a0d7c20-852e-11e6-84a7-bf875fc3111d\", element=\":wdc:1475034378194\")>, <selenium.webdriver.remote.webelement.WebElement (session=\"1a0d7c20-852e-11e6-84a7-bf875fc3111d\", element=\":wdc:1475034378195\")>, <selenium.webdriver.remote.webelement.WebElement (session=\"1a0d7c20-852e-11e6-84a7-bf875fc3111d\", element=\":wdc:1475034378196\")>, <selenium.webdriver.remote.webelement.WebElement (session=\"1a0d7c20-852e-11e6-84a7-bf875fc3111d\", element=\":wdc:1475034378197\")>, <selenium.webdriver.remote.webelement.WebElement (session=\"1a0d7c20-852e-11e6-84a7-bf875fc3111d\", element=\":wdc:1475034378198\")>, <selenium.webdriver.remote.webelement.WebElement (session=\"1a0d7c20-852e-11e6-84a7-bf875fc3111d\", element=\":wdc:1475034378199\")>, <selenium.webdriver.remote.webelement.WebElement (session=\"1a0d7c20-852e-11e6-84a7-bf875fc3111d\", element=\":wdc:1475034378200\")>]\n",
      "New:7830:2\n",
      "length:[<selenium.webdriver.remote.webelement.WebElement (session=\"1a0d7c20-852e-11e6-84a7-bf875fc3111d\", element=\":wdc:1475034378144\")>, <selenium.webdriver.remote.webelement.WebElement (session=\"1a0d7c20-852e-11e6-84a7-bf875fc3111d\", element=\":wdc:1475034378145\")>, <selenium.webdriver.remote.webelement.WebElement (session=\"1a0d7c20-852e-11e6-84a7-bf875fc3111d\", element=\":wdc:1475034378146\")>, <selenium.webdriver.remote.webelement.WebElement (session=\"1a0d7c20-852e-11e6-84a7-bf875fc3111d\", element=\":wdc:1475034378147\")>, <selenium.webdriver.remote.webelement.WebElement (session=\"1a0d7c20-852e-11e6-84a7-bf875fc3111d\", element=\":wdc:1475034378148\")>, <selenium.webdriver.remote.webelement.WebElement (session=\"1a0d7c20-852e-11e6-84a7-bf875fc3111d\", element=\":wdc:1475034378149\")>, <selenium.webdriver.remote.webelement.WebElement (session=\"1a0d7c20-852e-11e6-84a7-bf875fc3111d\", element=\":wdc:1475034378150\")>, <selenium.webdriver.remote.webelement.WebElement (session=\"1a0d7c20-852e-11e6-84a7-bf875fc3111d\", element=\":wdc:1475034378151\")>, <selenium.webdriver.remote.webelement.WebElement (session=\"1a0d7c20-852e-11e6-84a7-bf875fc3111d\", element=\":wdc:1475034378152\")>, <selenium.webdriver.remote.webelement.WebElement (session=\"1a0d7c20-852e-11e6-84a7-bf875fc3111d\", element=\":wdc:1475034378153\")>, <selenium.webdriver.remote.webelement.WebElement (session=\"1a0d7c20-852e-11e6-84a7-bf875fc3111d\", element=\":wdc:1475034378154\")>, <selenium.webdriver.remote.webelement.WebElement (session=\"1a0d7c20-852e-11e6-84a7-bf875fc3111d\", element=\":wdc:1475034378155\")>, <selenium.webdriver.remote.webelement.WebElement (session=\"1a0d7c20-852e-11e6-84a7-bf875fc3111d\", element=\":wdc:1475034378156\")>, <selenium.webdriver.remote.webelement.WebElement (session=\"1a0d7c20-852e-11e6-84a7-bf875fc3111d\", element=\":wdc:1475034378157\")>, <selenium.webdriver.remote.webelement.WebElement (session=\"1a0d7c20-852e-11e6-84a7-bf875fc3111d\", element=\":wdc:1475034378158\")>, <selenium.webdriver.remote.webelement.WebElement (session=\"1a0d7c20-852e-11e6-84a7-bf875fc3111d\", element=\":wdc:1475034378159\")>, <selenium.webdriver.remote.webelement.WebElement (session=\"1a0d7c20-852e-11e6-84a7-bf875fc3111d\", element=\":wdc:1475034378160\")>, <selenium.webdriver.remote.webelement.WebElement (session=\"1a0d7c20-852e-11e6-84a7-bf875fc3111d\", element=\":wdc:1475034378161\")>, <selenium.webdriver.remote.webelement.WebElement (session=\"1a0d7c20-852e-11e6-84a7-bf875fc3111d\", element=\":wdc:1475034378162\")>, <selenium.webdriver.remote.webelement.WebElement (session=\"1a0d7c20-852e-11e6-84a7-bf875fc3111d\", element=\":wdc:1475034378163\")>, <selenium.webdriver.remote.webelement.WebElement (session=\"1a0d7c20-852e-11e6-84a7-bf875fc3111d\", element=\":wdc:1475034378164\")>, <selenium.webdriver.remote.webelement.WebElement (session=\"1a0d7c20-852e-11e6-84a7-bf875fc3111d\", element=\":wdc:1475034378165\")>, <selenium.webdriver.remote.webelement.WebElement (session=\"1a0d7c20-852e-11e6-84a7-bf875fc3111d\", element=\":wdc:1475034378166\")>, <selenium.webdriver.remote.webelement.WebElement (session=\"1a0d7c20-852e-11e6-84a7-bf875fc3111d\", element=\":wdc:1475034378167\")>, <selenium.webdriver.remote.webelement.WebElement (session=\"1a0d7c20-852e-11e6-84a7-bf875fc3111d\", element=\":wdc:1475034378168\")>, <selenium.webdriver.remote.webelement.WebElement (session=\"1a0d7c20-852e-11e6-84a7-bf875fc3111d\", element=\":wdc:1475034378169\")>, <selenium.webdriver.remote.webelement.WebElement (session=\"1a0d7c20-852e-11e6-84a7-bf875fc3111d\", element=\":wdc:1475034378170\")>, <selenium.webdriver.remote.webelement.WebElement (session=\"1a0d7c20-852e-11e6-84a7-bf875fc3111d\", element=\":wdc:1475034378171\")>, <selenium.webdriver.remote.webelement.WebElement (session=\"1a0d7c20-852e-11e6-84a7-bf875fc3111d\", element=\":wdc:1475034378172\")>, <selenium.webdriver.remote.webelement.WebElement (session=\"1a0d7c20-852e-11e6-84a7-bf875fc3111d\", element=\":wdc:1475034378173\")>, <selenium.webdriver.remote.webelement.WebElement (session=\"1a0d7c20-852e-11e6-84a7-bf875fc3111d\", element=\":wdc:1475034378174\")>, <selenium.webdriver.remote.webelement.WebElement (session=\"1a0d7c20-852e-11e6-84a7-bf875fc3111d\", element=\":wdc:1475034378175\")>, <selenium.webdriver.remote.webelement.WebElement (session=\"1a0d7c20-852e-11e6-84a7-bf875fc3111d\", element=\":wdc:1475034378176\")>, <selenium.webdriver.remote.webelement.WebElement (session=\"1a0d7c20-852e-11e6-84a7-bf875fc3111d\", element=\":wdc:1475034378177\")>, <selenium.webdriver.remote.webelement.WebElement (session=\"1a0d7c20-852e-11e6-84a7-bf875fc3111d\", element=\":wdc:1475034378178\")>, <selenium.webdriver.remote.webelement.WebElement (session=\"1a0d7c20-852e-11e6-84a7-bf875fc3111d\", element=\":wdc:1475034378179\")>, <selenium.webdriver.remote.webelement.WebElement (session=\"1a0d7c20-852e-11e6-84a7-bf875fc3111d\", element=\":wdc:1475034378180\")>, <selenium.webdriver.remote.webelement.WebElement (session=\"1a0d7c20-852e-11e6-84a7-bf875fc3111d\", element=\":wdc:1475034378181\")>, <selenium.webdriver.remote.webelement.WebElement (session=\"1a0d7c20-852e-11e6-84a7-bf875fc3111d\", element=\":wdc:1475034378182\")>, <selenium.webdriver.remote.webelement.WebElement (session=\"1a0d7c20-852e-11e6-84a7-bf875fc3111d\", element=\":wdc:1475034378183\")>, <selenium.webdriver.remote.webelement.WebElement (session=\"1a0d7c20-852e-11e6-84a7-bf875fc3111d\", element=\":wdc:1475034378184\")>, <selenium.webdriver.remote.webelement.WebElement (session=\"1a0d7c20-852e-11e6-84a7-bf875fc3111d\", element=\":wdc:1475034378185\")>, <selenium.webdriver.remote.webelement.WebElement (session=\"1a0d7c20-852e-11e6-84a7-bf875fc3111d\", element=\":wdc:1475034378186\")>, <selenium.webdriver.remote.webelement.WebElement (session=\"1a0d7c20-852e-11e6-84a7-bf875fc3111d\", element=\":wdc:1475034378187\")>, <selenium.webdriver.remote.webelement.WebElement (session=\"1a0d7c20-852e-11e6-84a7-bf875fc3111d\", element=\":wdc:1475034378188\")>, <selenium.webdriver.remote.webelement.WebElement (session=\"1a0d7c20-852e-11e6-84a7-bf875fc3111d\", element=\":wdc:1475034378189\")>, <selenium.webdriver.remote.webelement.WebElement (session=\"1a0d7c20-852e-11e6-84a7-bf875fc3111d\", element=\":wdc:1475034378190\")>, <selenium.webdriver.remote.webelement.WebElement (session=\"1a0d7c20-852e-11e6-84a7-bf875fc3111d\", element=\":wdc:1475034378191\")>, <selenium.webdriver.remote.webelement.WebElement (session=\"1a0d7c20-852e-11e6-84a7-bf875fc3111d\", element=\":wdc:1475034378192\")>, <selenium.webdriver.remote.webelement.WebElement (session=\"1a0d7c20-852e-11e6-84a7-bf875fc3111d\", element=\":wdc:1475034378193\")>, <selenium.webdriver.remote.webelement.WebElement (session=\"1a0d7c20-852e-11e6-84a7-bf875fc3111d\", element=\":wdc:1475034378194\")>, <selenium.webdriver.remote.webelement.WebElement (session=\"1a0d7c20-852e-11e6-84a7-bf875fc3111d\", element=\":wdc:1475034378195\")>, <selenium.webdriver.remote.webelement.WebElement (session=\"1a0d7c20-852e-11e6-84a7-bf875fc3111d\", element=\":wdc:1475034378196\")>, <selenium.webdriver.remote.webelement.WebElement (session=\"1a0d7c20-852e-11e6-84a7-bf875fc3111d\", element=\":wdc:1475034378197\")>, <selenium.webdriver.remote.webelement.WebElement (session=\"1a0d7c20-852e-11e6-84a7-bf875fc3111d\", element=\":wdc:1475034378198\")>, <selenium.webdriver.remote.webelement.WebElement (session=\"1a0d7c20-852e-11e6-84a7-bf875fc3111d\", element=\":wdc:1475034378199\")>, <selenium.webdriver.remote.webelement.WebElement (session=\"1a0d7c20-852e-11e6-84a7-bf875fc3111d\", element=\":wdc:1475034378200\")>, <selenium.webdriver.remote.webelement.WebElement (session=\"1a0d7c20-852e-11e6-84a7-bf875fc3111d\", element=\":wdc:1475034378201\")>, <selenium.webdriver.remote.webelement.WebElement (session=\"1a0d7c20-852e-11e6-84a7-bf875fc3111d\", element=\":wdc:1475034378202\")>, <selenium.webdriver.remote.webelement.WebElement (session=\"1a0d7c20-852e-11e6-84a7-bf875fc3111d\", element=\":wdc:1475034378203\")>, <selenium.webdriver.remote.webelement.WebElement (session=\"1a0d7c20-852e-11e6-84a7-bf875fc3111d\", element=\":wdc:1475034378204\")>, <selenium.webdriver.remote.webelement.WebElement (session=\"1a0d7c20-852e-11e6-84a7-bf875fc3111d\", element=\":wdc:1475034378205\")>, <selenium.webdriver.remote.webelement.WebElement (session=\"1a0d7c20-852e-11e6-84a7-bf875fc3111d\", element=\":wdc:1475034378206\")>, <selenium.webdriver.remote.webelement.WebElement (session=\"1a0d7c20-852e-11e6-84a7-bf875fc3111d\", element=\":wdc:1475034378207\")>, <selenium.webdriver.remote.webelement.WebElement (session=\"1a0d7c20-852e-11e6-84a7-bf875fc3111d\", element=\":wdc:1475034378208\")>, <selenium.webdriver.remote.webelement.WebElement (session=\"1a0d7c20-852e-11e6-84a7-bf875fc3111d\", element=\":wdc:1475034378209\")>, <selenium.webdriver.remote.webelement.WebElement (session=\"1a0d7c20-852e-11e6-84a7-bf875fc3111d\", element=\":wdc:1475034378210\")>, <selenium.webdriver.remote.webelement.WebElement (session=\"1a0d7c20-852e-11e6-84a7-bf875fc3111d\", element=\":wdc:1475034378211\")>, <selenium.webdriver.remote.webelement.WebElement (session=\"1a0d7c20-852e-11e6-84a7-bf875fc3111d\", element=\":wdc:1475034378212\")>]\n"
     ]
    }
   ],
   "source": [
    "\n",
    "\n",
    "import selenium\n",
    "import time\n",
    "from selenium import webdriver\n",
    "from selenium.webdriver.common.by import By\n",
    "from selenium.webdriver.support.ui import WebDriverWait\n",
    "from selenium.webdriver.support import expected_conditions as EC\n",
    "\n",
    "# check if directory exists, if not, make it\n",
    "# directory='instagram_images/'\n",
    "# if not op.exists(directory):\n",
    "#     os.makedirs(directory)\n",
    "import urllib\n",
    "#driver = webdriver.Firefox()\n",
    "driver = webdriver.PhantomJS(service_args=['--ignore-ssl-errors=true'])\n",
    "#driver = webdriver.PhantomJS(\"phantomjs\")\n",
    "driver.set_window_size(1200,800)\n",
    "driver.get(\"https://www.instagram.com/explore/tags/amitesh/\")\n",
    "driver.implicitly_wait(10)\n",
    "print driver.title\n",
    "PAUSE1=2\n",
    "all_data_links=[]\n",
    "\n",
    "#element = driver.find_element_by_xpath(\"//*[@id='react-root']/section/main/article/div[2]/div[3]/a)\")\n",
    "\n",
    "# try:\n",
    "#     element = WebDriverWait(driver, 10).until(EC.element_to_be_clickable((By.CSS,'a._oidfu')))\n",
    "# finally:\n",
    "#     driver.quit()\n",
    "    \n",
    "element = driver.find_element_by_css_selector('a._oidfu')\n",
    "print element\n",
    "driver.implicitly_wait(PAUSE1)\n",
    "element.click()\n",
    "\n",
    "#driver = webdriver.PhantomJS(\"phantomjs\")\n",
    "pause = 3\n",
    "lastHeight = driver.execute_script(\"return document.body.scrollHeight\")\n",
    "print \"last:\"+str(lastHeight)\n",
    "i = 0\n",
    "#browser.get_screenshot_as_file(\"test03_1_\"+str(i)+\".jpg\")\n",
    "while True:\n",
    "    driver.execute_script(\"window.scrollTo(0, document.body.scrollHeight);\")\n",
    "    time.sleep(pause)\n",
    "    newHeight = driver.execute_script(\"return document.body.scrollHeight\")\n",
    "    print \"New:\"+str(newHeight)+\":\"+str(i)\n",
    "    print \"length:\"+str(len(driver.find_elements_by_xpath(\"//*[@id]/section/main/article/div/div/div/a\")))\n",
    "    if newHeight == lastHeight:\n",
    "        break\n",
    "    lastHeight = newHeight\n",
    "    i += 1\n",
    "\n",
    "video_links=[]    \n",
    "try:    \n",
    "    video_links=driver.find_elements_by_xpath(\"//a[.//*[@class='_1lp5e']]\").get_attribute('href')\n",
    "    #print video_links\n",
    "except Exception: \n",
    "    pass\n",
    "#print video_links\n",
    "for link in driver.find_elements_by_xpath(\"//*[@id]/section/main/article/div/div/div/a\"):\n",
    "    url=link.get_attribute('href')\n",
    "    if url not in video_links:\n",
    "        all_data_links.append(url)\n",
    "\n",
    "print \"\\nTotal image link:\\n\"+str(len(all_data_links))\n",
    "\t\t\n"
   ]
  },
  {
   "cell_type": "code",
   "execution_count": 1,
   "metadata": {
    "collapsed": false
   },
   "outputs": [],
   "source": [
    "import json\n",
    "from selenium import webdriver\n",
    "import time\n",
    "\n",
    "import re\n",
    "import os.path as op\n",
    "import os\n",
    "# check if directory exists, if not, make it\n",
    "directory='../Instagram_post_by#/instagram_images/'\n",
    "if not op.exists(directory):\n",
    "    os.makedirs(directory)\n",
    "import urllib\n",
    "\n",
    "\n",
    "#import selenium\n",
    "def load_driver():\n",
    "    driver = webdriver.Firefox()\n",
    "    driver.set_window_size(1024,768)\n",
    "    return driver\n",
    "\n",
    "PAUSE=1\n",
    "def scroll_page(driver):\n",
    "    driver.execute_script(\"window.scrollTo(0, document.body.scrollHeight);\")\n",
    "    time.sleep(0.05)\n",
    "    driver.execute_script(\"window.scrollTo(0, 0);\")\n",
    "    time.sleep(0.05)\n",
    "def get_scroll_count(count):\n",
    "    return (int(count) - 24) / 12 + 1\n",
    "\n",
    "\n",
    "def get_isnt_data(driver):\n",
    "    #driver.get('https://www.instagram.com/explore/tags/amiteshel/')\n",
    "    driver.get('https://www.instagram.com/explore/tags/nomoney/')\n",
    "    all_data_links=[]\n",
    "\n",
    "    #load_link_element=driver.find_element_by_xpath('//*[@id=\"react-root\"]/section/main/article/div/div/a').click()\n",
    "    #driver.execute_script(\"window.scrollTo(0, document.body.scrollHeight);\")\n",
    "    #time.sleep(5)\n",
    "    scroll_to_bottom = get_scroll_count('5000')\n",
    "    element = driver.find_element_by_css_selector('a._oidfu')\n",
    "    driver.implicitly_wait(PAUSE)\n",
    "    element.click()\n",
    "\n",
    "    for y in range(int(scroll_to_bottom)):\n",
    "        scroll_page(driver) \n",
    "        \n",
    "   \n",
    "    video_links=[]    \n",
    "    try:    \n",
    "        video_links=driver.find_elements_by_xpath(\"//a[.//*[@class='_1lp5e']]\").get_attribute('href')\n",
    "        print video_links\n",
    "    except Exception: \n",
    "          pass\n",
    "    print video_links\n",
    "    for link in driver.find_elements_by_xpath(\"//*[@id]/section/main/article/div/div/div/a\"):\n",
    "        url=link.get_attribute('href')\n",
    "        if url not in video_links:\n",
    "            all_data_links.append(url)\n",
    "   \n",
    "    username_list=[]\n",
    "    print len(all_data_links)\n",
    "    for link in all_data_links:\n",
    "        driver.get(link)\n",
    "        username_element=driver.find_element_by_xpath('//*[@id=\"react-root\"]/section/main/div/div/article/header/div/a')\n",
    "        username=username_element.text\n",
    "        if username not in username_list:\n",
    "        \n",
    "            username_list.append(username)\n",
    "\n",
    "            date_element=driver.find_element_by_xpath('//*[@id=\"react-root\"]/section/main/div/div/article/div[2]/section[1]/a/time')\n",
    "            date=date_element.get_attribute('datetime')\n",
    "\n",
    "            post_element=driver.find_element_by_xpath('//*[@id=\"react-root\"]/section/main/div/div/article/div[2]/ul/li[1]/h1/span')\n",
    "            post=post_element.text\n",
    "\n",
    "            tag_list=[]\n",
    "            hashtag_element=driver.find_elements_by_xpath('//*[@id=\"react-root\"]/section/main/div/div/article/div[2]/ul/li[1]/h1/span/a')\n",
    "            for tag_element in hashtag_element:\n",
    "                tag=tag_element.text\n",
    "                if tag_element.get_attribute('class')!='notranslate':\n",
    "                    tag_list.append(tag)\n",
    "            \n",
    "            try:\n",
    "                likes_element=driver.find_element_by_xpath('//*[@id=\"react-root\"]/section/main/div/div/article/div[2]/section[1]/div/span[@class]/span')\n",
    "                likes=likes_element.text\n",
    "            except:\n",
    "                likes_element_list=driver.find_element_by_xpath('//*[@id=\"react-root\"]/section/main/div/div/article/div/section[1]/div/a').text\n",
    "                likes=str(len(likes_element_list))\n",
    "\n",
    "            #like_view_element=driver.find_element_by_xpath('//*[@id=\"react-root\"]/section/main/div/div/article/div[2]/section[1]/div/span/text()')\n",
    "            #like_view=like_view_element.text\n",
    "\n",
    "            comments=''\n",
    "            comment_expansion=[]\n",
    "            try:\n",
    "                comment_expansion=driver.find_element_by_xpath('//*[@id=\"react-root\"]/section/main/div/div/article/div[2]/ul/li[2]/button')\n",
    "            except Exception: \n",
    "                  pass\n",
    "            if comment_expansion:\n",
    "                driver.find_element_by_xpath('//*[@id=\"react-root\"]/section/main/div/div/article/div[2]/ul/li[2]/button').click();\n",
    "            comment_element_list=driver.find_elements_by_xpath('//*[@id=\"react-root\"]/section/main/div/div/article/div[2]/ul/li/span')\n",
    "            for comment_element in comment_element_list:\n",
    "                comments+=comment_element.text\n",
    "\n",
    "\n",
    "            #download images\n",
    "            image_link_element=driver.find_element_by_xpath('//div/img[@class]')\n",
    "            image_link=image_link_element.get_attribute('src')\n",
    "            photo_url=image_link\n",
    "            photo_url = photo_url.replace('\\\\', '')\n",
    "            photo_url = re.sub(r'/s\\d+x\\d+/', '/', photo_url)\n",
    "            photo_url = re.sub(r'/\\w+\\.\\d+\\.\\d+\\.\\d+/', '/', photo_url)\n",
    "            photo_url=photo_url.split('?')[0]\n",
    "            photo_basename = op.basename(photo_url)\n",
    "            photo_name = op.join(directory, photo_basename)\n",
    "            urllib.urlretrieve(link, photo_name)\n",
    "\n",
    "            #image location in directory\n",
    "            image_location=photo_name\n",
    "            \n",
    "            #store data in a dictionary\n",
    "            data_extract={'Username':username,\n",
    "                          'Date posted':date,\n",
    "                          'Post':post,\n",
    "                          'Hashtag list':tag_list,\n",
    "                          'Comments':comments,\n",
    "                          'Image URL':image_link,\n",
    "                          'Image location':image_location,\n",
    "                          'Post url':link}\n",
    "\n",
    "        #username_list.append(username)\n",
    "#         #driver.close()\n",
    "    #return username_list"
   ]
  },
  {
   "cell_type": "code",
   "execution_count": null,
   "metadata": {
    "collapsed": false
   },
   "outputs": [
    {
     "name": "stdout",
     "output_type": "stream",
     "text": [
      "[]\n",
      "3825\n"
     ]
    }
   ],
   "source": [
    "driver=load_driver()\n",
    "get_isnt_data(driver)\n"
   ]
  },
  {
   "cell_type": "code",
   "execution_count": 18,
   "metadata": {
    "collapsed": false
   },
   "outputs": [
    {
     "name": "stdout",
     "output_type": "stream",
     "text": [
      "{1: 'amit', 2: 'sah', 3: 'is', 4: 'awesome'}\n"
     ]
    }
   ],
   "source": [
    "co={}\n",
    "c1=['amit','sah','is','awesome']\n",
    "for k,v in enumerate(c1):\n",
    "    co[k+1]=v\n",
    "print co\n"
   ]
  },
  {
   "cell_type": "code",
   "execution_count": null,
   "metadata": {
    "collapsed": true
   },
   "outputs": [],
   "source": [
    "# from multiprocessing import Pool\n",
    "\n",
    "# def f(x):\n",
    "#     return x*x\n",
    "\n",
    "# if __name__ == '__main__':\n",
    "#     pool = Pool(processes=4)              # start 4 worker processes\n",
    "#     result = pool.apply_async(f, [10])    # evaluate \"f(10)\" asynchronously\n",
    "#     print result.get(timeout=1)           # prints \"100\" unless your computer is *very* slow\n",
    "#     print pool.map(f, range(10))  "
   ]
  },
  {
   "cell_type": "code",
   "execution_count": 1,
   "metadata": {
    "collapsed": false
   },
   "outputs": [
    {
     "name": "stdout",
     "output_type": "stream",
     "text": [
      "14240792_1217114368319363_781536848_n.jpg\n",
      "../Instagram_post_by#/instagram_images/14240792_1217114368319363_781536848_n.jpg\n"
     ]
    },
    {
     "data": {
      "text/plain": [
       "('../Instagram_post_by#/instagram_images/14240792_1217114368319363_781536848_n.jpg',\n",
       " <httplib.HTTPMessage instance at 0x10beffc20>)"
      ]
     },
     "execution_count": 1,
     "metadata": {},
     "output_type": "execute_result"
    }
   ],
   "source": [
    "import re\n",
    "import os.path as op\n",
    "import os\n",
    "# check if directory exists, if not, make it\n",
    "directory='../Instagram_post_by#/instagram_images/'\n",
    "if not op.exists(directory):\n",
    "    os.makedirs(directory)\n",
    "import urllib\n",
    "link='https://scontent-lga3-1.cdninstagram.com/t51.2885-15/s750x750/sh0.08/e35/14240792_1217114368319363_781536848_n.jpg?ig_cache_key=MTMzNjI0MjE2MDgzNTkxNTU3Mg%3D%3D.2'\n",
    "photo_url=link\n",
    "photo_url = photo_url.replace('\\\\', '')\n",
    "photo_url = re.sub(r'/s\\d+x\\d+/', '/', photo_url)\n",
    "photo_url = re.sub(r'/\\w+\\.\\d+\\.\\d+\\.\\d+/', '/', photo_url)\n",
    "photo_url=photo_url.split('?')[0]\n",
    "photo_basename = op.basename(photo_url)\n",
    "print photo_basename\n",
    "photo_name = op.join(directory, photo_basename)\n",
    "print photo_name\n",
    "urllib.urlretrieve(link, photo_name)"
   ]
  },
  {
   "cell_type": "code",
   "execution_count": 8,
   "metadata": {
    "collapsed": false
   },
   "outputs": [
    {
     "ename": "NameError",
     "evalue": "name 'TextField' is not defined",
     "output_type": "error",
     "traceback": [
      "\u001b[0;31m---------------------------------------------------------------------------\u001b[0m",
      "\u001b[0;31mNameError\u001b[0m                                 Traceback (most recent call last)",
      "\u001b[0;32m<ipython-input-8-2b8e5757ab25>\u001b[0m in \u001b[0;36m<module>\u001b[0;34m()\u001b[0m\n\u001b[1;32m      1\u001b[0m \u001b[0;31m#Data model\u001b[0m\u001b[0;34m\u001b[0m\u001b[0;34m\u001b[0m\u001b[0m\n\u001b[1;32m      2\u001b[0m \u001b[0;32mimport\u001b[0m \u001b[0mtime\u001b[0m\u001b[0;34m\u001b[0m\u001b[0m\n\u001b[0;32m----> 3\u001b[0;31m \u001b[0;32mclass\u001b[0m \u001b[0mInstagram_data\u001b[0m\u001b[0;34m(\u001b[0m\u001b[0;34m)\u001b[0m\u001b[0;34m:\u001b[0m\u001b[0;34m\u001b[0m\u001b[0m\n\u001b[0m\u001b[1;32m      4\u001b[0m     \u001b[0;31m#date_posted=DateTimeField(null=True)\u001b[0m\u001b[0;34m\u001b[0m\u001b[0;34m\u001b[0m\u001b[0m\n\u001b[1;32m      5\u001b[0m     \u001b[0muser_name\u001b[0m\u001b[0;34m=\u001b[0m\u001b[0mTextField\u001b[0m\u001b[0;34m(\u001b[0m\u001b[0mnull\u001b[0m\u001b[0;34m=\u001b[0m\u001b[0mTrue\u001b[0m\u001b[0;34m)\u001b[0m\u001b[0;34m\u001b[0m\u001b[0m\n",
      "\u001b[0;32m<ipython-input-8-2b8e5757ab25>\u001b[0m in \u001b[0;36mInstagram_data\u001b[0;34m()\u001b[0m\n\u001b[1;32m      3\u001b[0m \u001b[0;32mclass\u001b[0m \u001b[0mInstagram_data\u001b[0m\u001b[0;34m(\u001b[0m\u001b[0;34m)\u001b[0m\u001b[0;34m:\u001b[0m\u001b[0;34m\u001b[0m\u001b[0m\n\u001b[1;32m      4\u001b[0m     \u001b[0;31m#date_posted=DateTimeField(null=True)\u001b[0m\u001b[0;34m\u001b[0m\u001b[0;34m\u001b[0m\u001b[0m\n\u001b[0;32m----> 5\u001b[0;31m     \u001b[0muser_name\u001b[0m\u001b[0;34m=\u001b[0m\u001b[0mTextField\u001b[0m\u001b[0;34m(\u001b[0m\u001b[0mnull\u001b[0m\u001b[0;34m=\u001b[0m\u001b[0mTrue\u001b[0m\u001b[0;34m)\u001b[0m\u001b[0;34m\u001b[0m\u001b[0m\n\u001b[0m\u001b[1;32m      6\u001b[0m     \u001b[0mfull_name\u001b[0m\u001b[0;34m=\u001b[0m\u001b[0mTextField\u001b[0m\u001b[0;34m(\u001b[0m\u001b[0mnull\u001b[0m\u001b[0;34m=\u001b[0m\u001b[0mTrue\u001b[0m\u001b[0;34m)\u001b[0m\u001b[0;34m\u001b[0m\u001b[0m\n\u001b[1;32m      7\u001b[0m     \u001b[0mpost\u001b[0m\u001b[0;34m=\u001b[0m\u001b[0mTextField\u001b[0m\u001b[0;34m(\u001b[0m\u001b[0mnull\u001b[0m\u001b[0;34m=\u001b[0m\u001b[0mTrue\u001b[0m\u001b[0;34m)\u001b[0m\u001b[0;34m\u001b[0m\u001b[0m\n",
      "\u001b[0;31mNameError\u001b[0m: name 'TextField' is not defined"
     ]
    }
   ],
   "source": [
    "#Data model\n",
    "from datetime import datetime\n",
    "class Instagram_data():\n",
    "    #date_posted=DateTimeField(null=True)\n",
    "    user_name=TextField(null=True)\n",
    "    full_name=TextField(null=True)\n",
    "    post=TextField(null=True)\n",
    "    hashtag=TextField(null=True)\n",
    "    image=TextField(null=True)\n",
    "    likes=TextField(null=True)\n",
    "    comments=TextField(null=True)\n",
    "    profile_pic_url=TextField(null=True)\n",
    "    post_link=TextField(null=True)\n",
    "    "
   ]
  },
  {
   "cell_type": "code",
   "execution_count": null,
   "metadata": {
    "collapsed": false
   },
   "outputs": [],
   "source": []
  },
  {
   "cell_type": "code",
   "execution_count": 1,
   "metadata": {
    "collapsed": false
   },
   "outputs": [
    {
     "name": "stdout",
     "output_type": "stream",
     "text": [
      "<html><body><h4 class=\"col-sm-4\">52 Week High/Low:<b> ₹ 394.00 / ₹ 252.10</b></h4></body></html>\n"
     ]
    },
    {
     "name": "stderr",
     "output_type": "stream",
     "text": [
      "/usr/local/lib/python2.7/site-packages/bs4/__init__.py:181: UserWarning: No parser was explicitly specified, so I'm using the best available HTML parser for this system (\"lxml\"). This usually isn't a problem, but if you run this code on another system, or in a different virtual environment, it may use a different parser and behave differently.\n",
      "\n",
      "The code that caused this warning is on line 162 of the file /usr/local/Cellar/python/2.7.11/Frameworks/Python.framework/Versions/2.7/lib/python2.7/runpy.py. To get rid of this warning, change code that looks like this:\n",
      "\n",
      " BeautifulSoup([your markup])\n",
      "\n",
      "to this:\n",
      "\n",
      " BeautifulSoup([your markup], \"lxml\")\n",
      "\n",
      "  markup_type=markup_type))\n"
     ]
    }
   ],
   "source": [
    "from bs4 import BeautifulSoup, Comment\n",
    "\n",
    "html = \"\"\"<h4 class=\"col-sm-4\"><!-- react-text: 124 -->52 Week High/Low:<!-- /react-text --><b><!-- react-text: 126 --> ₹ <!-- /react-text --><!-- react-text: 127 -->394.00<!-- /react-text --><!-- react-text: 128 --> / ₹ <!-- /react-text --><!-- react-text: 129 -->252.10<!-- /react-text --></b></h4>\"\"\"\n",
    "soup = BeautifulSoup(html)\n",
    "comments = soup.findAll(text=lambda text:isinstance(text, Comment))\n",
    "\n",
    "# nit: It isn't good practice to use a list comprehension only for its\n",
    "# side-effects. (Wastes space constructing an unused list)\n",
    "for comment in comments:\n",
    "    comment.extract()\n",
    "\n",
    "print soup"
   ]
  },
  {
   "cell_type": "code",
   "execution_count": null,
   "metadata": {
    "collapsed": true
   },
   "outputs": [],
   "source": []
  },
  {
   "cell_type": "code",
   "execution_count": null,
   "metadata": {
    "collapsed": true
   },
   "outputs": [],
   "source": [
    "window._sharedData = {\"country_code\": \"US\",\n",
    "                      \"language_code\": \"en\",\n",
    "                      \"gatekeepers\": {\"cc\": true},\n",
    "                      \"show_app_install\": true,\n",
    "                      \"static_root\": \"//instagramstatic-a.akamaihd.net/h1\",\n",
    "                      \"platform\": \"web\",\n",
    "                      \"hostname\": \"www.instagram.com\",\n",
    "                      \"entry_data\":{\"TagPage\":[{\"tag\":{\"media\":{\"count\": 14,\n",
    "                                        \"page_info\":{\"has_previous_page\": false,\n",
    "                                                     \"start_cursor\": \"1237048054793448373\",\n",
    "                                                     \"end_cursor\": \"781848231322461945\",\n",
    "                                                     \"has_next_page\": false},\n",
    "                                        \"nodes\": [{\"code\": \"BEq4KbUDSu1\",\n",
    "                                                   \"date\": 1461687641,\n",
    "                                                   \"dimensions\": {\"width\": 750,\"height\": 937},\n",
    "                                                   \"comments_disabled\": false,\n",
    "                                                   \"comments\": {\"count\": 5},\n",
    "                                                   \"caption\": \"Picture Not Perfect But Bande Saare Perfect!! #farewell#2k16#lpu#juniors#hirdey#vishal#amiteshwar#sada_aarhi#bhaur_harman#ouzotime#videshidesi#greek#zeusmodeon\",\n",
    "                                                   \"likes\": {\"count\": 79},\n",
    "                                                   \"owner\": {\"id\": \"219105841\"},\n",
    "                                                   \"thumbnail_src\": \"https://scontent-lga3-1.cdninstagram.com/t51.2885-15/s640x640/sh0.08/e35/c0.100.799.799/12965116_1718292828446616_538956332_n.jpg?ig_cache_key=MTIzNzA0ODA1NDc5MzQ0ODM3Mw%3D%3D.2.c\",\n",
    "                                                   \"is_video\": false,\n",
    "                                                   \"id\": \"1237048054793448373\",\n",
    "                                                   \"display_src\": \"https://scontent-lga3-1.cdninstagram.com/t51.2885-15/sh0.08/e35/p750x750/12965116_1718292828446616_538956332_n.jpg?ig_cache_key=MTIzNzA0ODA1NDc5MzQ0ODM3Mw%3D%3D.2\"},\n",
    "                                                  {\"code\": \"2TWcSttyh9\",\n",
    "                                                   \"date\": 1430833439,\n",
    "                                                   \"dimensions\": {\"width\": 640, \"height\": 640},\n",
    "                                                   \"comments_disabled\": false,\n",
    "                                                   \"comments\": {\"count\": 11},\n",
    "                                                   \"caption\": \"#laser#tag#sohail's#sauhre#kanikadi#jessica#chetna#sahib#amiteshwar#too#much#fun#jessica#i#will#bang#you#next#time#insta#pic#instafun\",\n",
    "                                                   \"likes\": {\"count\": 54},\n",
    "                                                   \"owner\": {\"id\": \"400618529\"},\n",
    "                                                   \"thumbnail_src\": \"https://scontent-lga3-1.cdninstagram.com/t51.2885-15/e15/11240721_1600825353466915_1353446737_n.jpg?ig_cache_key=OTc4MjI0MjQ1MzMyNDUzNTAx.2\",\n",
    "                                                   \"is_video\": false,\n",
    "                                                   \"id\": \"978224245332453501\",\n",
    "                                                   \"display_src\": \"https://scontent-lga3-1.cdninstagram.com/t51.2885-15/e15/11240721_1600825353466915_1353446737_n.jpg?ig_cache_key=OTc4MjI0MjQ1MzMyNDUzNTAx.2\"},\n",
    "                                                  {\"code\": \"2BjfDMvzso\",\n",
    "                                                   \"date\": 1430236297,\n",
    "                                                   \"dimensions\": {\"width\": 640, \"height\": 640},\n",
    "                                                   \"comments_disabled\": false,\n",
    "                                                   \"comments\": {\"count\": 0},\n",
    "                                                   \"caption\": \"#Mauja #Bachpan #Drive #crane #Amiteshwar\",\n",
    "                                                   \"likes\": {\"count\": 10},\n",
    "                                                   \"owner\": {\"id\": \"1528999045\"},\n",
    "                                                   \"thumbnail_src\": \"https://scontent-lga3-1.cdninstagram.com/t51.2885-15/e15/11192576_755767337876915_1488180064_n.jpg?ig_cache_key=OTczMjE1MDU5ODU1NDg5ODMy.2\",\n",
    "                                                   \"is_video\": false,\n",
    "                                                   \"id\": \"973215059855489832\",\n",
    "                                                   \"display_src\": \"https://scontent-lga3-1.cdninstagram.com/t51.2885-15/e15/11192576_755767337876915_1488180064_n.jpg?ig_cache_key=OTczMjE1MDU5ODU1NDg5ODMy.2\"},\n",
    "                                                  {\"code\": \"rZrtLwPib5\",\n",
    "                                                   \"date\": 1407423593,\n",
    "                                                   \"dimensions\": {\"width\": 640, \"height\": 640},\n",
    "                                                   \"comments_disabled\": false,\n",
    "                                                   \"comments\": {\"count\": 13},\n",
    "                                                   \"caption\": \"#cap#vehle#kam#amiteshwar#bro#da#room#red#blue#instacool\",\n",
    "                                                   \"likes\": {\"count\": 41},\n",
    "                                                   \"owner\": {\"id\": \"477168976\"},\n",
    "                                                   \"thumbnail_src\": \"https://scontent-lga3-1.cdninstagram.com/t51.2885-15/e15/10507979_566974936758143_1131911824_n.jpg?ig_cache_key=NzgxODQ4MjMxMzIyNDYxOTQ1.2\",\n",
    "                                                   \"is_video\": false,\n",
    "                                                   \"id\": \"781848231322461945\",\n",
    "                                                   \"display_src\": \"https://scontent-lga3-1.cdninstagram.com/t51.2885-15/e15/10507979_566974936758143_1131911824_n.jpg?ig_cache_key=NzgxODQ4MjMxMzIyNDYxOTQ1.2\"}]},\n",
    "                                                       \"content_advisory\": null,\n",
    "                                                       \"top_posts\": {\"nodes\": []},\n",
    "                                                       \"name\": \"amiteshwar\"}}]},\n",
    "                      \"qe\": {\"profile\": {\"p\": {}, \"g\": \"\"},\n",
    "                             \"su_universe\": {\"p\": {}, \"g\": \"\"},\n",
    "                             \"notif\": {\"p\": {}, \"g\": \"\"},\n",
    "                             \"us\": {\"p\": {}, \"g\": \"\"},\n",
    "                             \"su\": {\"p\": {\"enabled\": \"true\"},\n",
    "                                    \"g\": \"rollout_20160325\"},\n",
    "                             \"us_li\": {\"p\": {}, \"g\": \"\"},\n",
    "                             \"discovery\": {\"p\": {}, \"g\": \"\"}},\n",
    "                      \"display_properties_server_guess\": {\"viewport_width\": 861, \"pixel_ratio\": 2.0},\n",
    "                      \"config\": {\"viewer\": null,\n",
    "                                 \"csrf_token\": \"6j48369U0X6HwWkFGUSJi8jwYA5wtta0\"},\n",
    "                      \"environment_switcher_visible_server_guess\": true};"
   ]
  },
  {
   "cell_type": "code",
   "execution_count": null,
   "metadata": {
    "collapsed": true
   },
   "outputs": [],
   "source": [
    "from selenium import webdriver\n",
    "#import selenium\n",
    "def load_driver():\n",
    "    driver = webdriver.Firefox()\n",
    "    driver.set_window_size(1024,768)\n",
    "    return driver\n",
    "\n",
    "def get_isnt_data(driver):\n",
    "    driver.get('https://www.instagram.com/explore/tags/nomoney/')\n",
    "    \n",
    "    all_data_links=[]    \n",
    "    continue = True\n",
    "    while continue:\n",
    "        try:\n",
    "            for link in driver.find_elements_by_xpath(\"//*[@id]/section/main/article/div/div/div/a\"):\n",
    "                #print link\n",
    "                url=link.get_attribute('href')\n",
    "                all_data_links.append(url) # get more links, search how to scroll further below\n",
    "                #url for next link: //*[@id]/section/main/article/div/div/a\n",
    "            x=parsing()\n",
    "            \n",
    "        except:\n",
    "            print \"Done!\"\n",
    "            continue = False\n",
    "    return all_data_links\n",
    "\n",
    "def parsing():\n",
    "    content=driver.find_element_by_xpath('//script[contains(., \"sharedData\")]/text()').text\n",
    "\n"
   ]
  },
  {
   "cell_type": "code",
   "execution_count": 4,
   "metadata": {
    "collapsed": false
   },
   "outputs": [],
   "source": [
    "from bs4 import BeautifulSoup\n",
    "import selenium.webdriver as webdriver\n",
    "\n",
    "url = 'http://instagram.com/umnpics/'\n",
    "driver = webdriver.Firefox()\n",
    "driver.get(url)\n",
    "\n",
    "soup = BeautifulSoup(driver.page_source)\n",
    "\n",
    "for x in soup.findAll('li', {'class':'photo'}):\n",
    "    print x"
   ]
  },
  {
   "cell_type": "code",
   "execution_count": 7,
   "metadata": {
    "collapsed": true
   },
   "outputs": [],
   "source": [
    "from selenium import webdriver\n",
    "from selenium.webdriver.common.keys import Keys\n",
    "\n",
    "driver = webdriver.Firefox()\n",
    "driver.get(\"http://www.python.org\")\n",
    "assert \"Python\" in driver.title\n",
    "elem = driver.find_element_by_name(\"q\")\n",
    "elem.clear()\n",
    "elem.send_keys(\"pycon\")\n"
   ]
  },
  {
   "cell_type": "code",
   "execution_count": 8,
   "metadata": {
    "collapsed": true
   },
   "outputs": [],
   "source": [
    "elem.send_keys(Keys.RETURN)\n",
    "assert \"No results found.\" not in driver.page_source\n",
    "driver.close()"
   ]
  },
  {
   "cell_type": "code",
   "execution_count": 17,
   "metadata": {
    "collapsed": true
   },
   "outputs": [],
   "source": [
    "from selenium import webdriver\n",
    "from selenium.webdriver.common.keys import Keys\n",
    " \n",
    "def scrape_url(url):\n",
    " \n",
    "    # Load WebDriver and navigate to the page url.\n",
    "    # This will open a browser window.\n",
    "    driver = webdriver.Firefox()\n",
    "    #driver=webdriver.Chrome()\n",
    "    driver.get(url)\n",
    "     \n",
    "    urls = []\n",
    " \n",
    "    # First scroll to the end of the table by sending Page Down keypresses to\n",
    "    # the browser window.\n",
    "    while driver.find_element_by_class_name('end').text != 'No more games available!':\n",
    "        # Find the first element on the page, so we can scroll down using the\n",
    "        # element object's send_keys() method\n",
    "        elem = driver.find_element_by_tag_name('a')\n",
    "        elem.send_keys(Keys.PAGE_DOWN)\n",
    "     \n",
    "    # Once the whole table has loaded, grab all the visible links.    \n",
    "    visible_links = driver.find_elements_by_class_name('gameLink')\n",
    "    for link in visible_links:\n",
    "        urls.append(link.get_attribute('href'))\n",
    "         \n",
    "    driver.quit()\n",
    "           \n",
    "    return urls"
   ]
  },
  {
   "cell_type": "code",
   "execution_count": 18,
   "metadata": {
    "collapsed": false
   },
   "outputs": [
    {
     "ename": "WebDriverException",
     "evalue": "Message: 'chromedriver' executable needs to be in PATH. Please see https://sites.google.com/a/chromium.org/chromedriver/home\n",
     "output_type": "error",
     "traceback": [
      "\u001b[0;31m---------------------------------------------------------------------------\u001b[0m",
      "\u001b[0;31mWebDriverException\u001b[0m                        Traceback (most recent call last)",
      "\u001b[0;32m<ipython-input-18-67e4e7e013e7>\u001b[0m in \u001b[0;36m<module>\u001b[0;34m()\u001b[0m\n\u001b[1;32m      1\u001b[0m \u001b[0ma\u001b[0m\u001b[0;34m=\u001b[0m\u001b[0;34m'http://log.tichumania.de/view/pages/Games.php?player=ellezar'\u001b[0m\u001b[0;34m\u001b[0m\u001b[0m\n\u001b[0;32m----> 2\u001b[0;31m \u001b[0;32mprint\u001b[0m \u001b[0mscrape_url\u001b[0m\u001b[0;34m(\u001b[0m\u001b[0ma\u001b[0m\u001b[0;34m)\u001b[0m\u001b[0;34m\u001b[0m\u001b[0m\n\u001b[0m",
      "\u001b[0;32m<ipython-input-17-9d07f3315770>\u001b[0m in \u001b[0;36mscrape_url\u001b[0;34m(url)\u001b[0m\n\u001b[1;32m      7\u001b[0m     \u001b[0;31m# This will open a browser window.\u001b[0m\u001b[0;34m\u001b[0m\u001b[0;34m\u001b[0m\u001b[0m\n\u001b[1;32m      8\u001b[0m     \u001b[0;31m#driver = webdriver.Firefox()\u001b[0m\u001b[0;34m\u001b[0m\u001b[0;34m\u001b[0m\u001b[0m\n\u001b[0;32m----> 9\u001b[0;31m     \u001b[0mdriver\u001b[0m\u001b[0;34m=\u001b[0m\u001b[0mwebdriver\u001b[0m\u001b[0;34m.\u001b[0m\u001b[0mChrome\u001b[0m\u001b[0;34m(\u001b[0m\u001b[0;34m'/path/to/chromedriver'\u001b[0m\u001b[0;34m)\u001b[0m\u001b[0;34m\u001b[0m\u001b[0m\n\u001b[0m\u001b[1;32m     10\u001b[0m     \u001b[0mdriver\u001b[0m\u001b[0;34m.\u001b[0m\u001b[0mget\u001b[0m\u001b[0;34m(\u001b[0m\u001b[0murl\u001b[0m\u001b[0;34m)\u001b[0m\u001b[0;34m\u001b[0m\u001b[0m\n\u001b[1;32m     11\u001b[0m \u001b[0;34m\u001b[0m\u001b[0m\n",
      "\u001b[0;32m/usr/local/lib/python2.7/site-packages/selenium/webdriver/chrome/webdriver.pyc\u001b[0m in \u001b[0;36m__init__\u001b[0;34m(self, executable_path, port, chrome_options, service_args, desired_capabilities, service_log_path)\u001b[0m\n\u001b[1;32m     60\u001b[0m             \u001b[0mservice_args\u001b[0m\u001b[0;34m=\u001b[0m\u001b[0mservice_args\u001b[0m\u001b[0;34m,\u001b[0m\u001b[0;34m\u001b[0m\u001b[0m\n\u001b[1;32m     61\u001b[0m             log_path=service_log_path)\n\u001b[0;32m---> 62\u001b[0;31m         \u001b[0mself\u001b[0m\u001b[0;34m.\u001b[0m\u001b[0mservice\u001b[0m\u001b[0;34m.\u001b[0m\u001b[0mstart\u001b[0m\u001b[0;34m(\u001b[0m\u001b[0;34m)\u001b[0m\u001b[0;34m\u001b[0m\u001b[0m\n\u001b[0m\u001b[1;32m     63\u001b[0m \u001b[0;34m\u001b[0m\u001b[0m\n\u001b[1;32m     64\u001b[0m         \u001b[0;32mtry\u001b[0m\u001b[0;34m:\u001b[0m\u001b[0;34m\u001b[0m\u001b[0m\n",
      "\u001b[0;32m/usr/local/lib/python2.7/site-packages/selenium/webdriver/common/service.pyc\u001b[0m in \u001b[0;36mstart\u001b[0;34m(self)\u001b[0m\n\u001b[1;32m     69\u001b[0m                 raise WebDriverException(\n\u001b[1;32m     70\u001b[0m                     \"'%s' executable needs to be in PATH. %s\" % (\n\u001b[0;32m---> 71\u001b[0;31m                         os.path.basename(self.path), self.start_error_message)\n\u001b[0m\u001b[1;32m     72\u001b[0m                 )\n\u001b[1;32m     73\u001b[0m             \u001b[0;32melif\u001b[0m \u001b[0merr\u001b[0m\u001b[0;34m.\u001b[0m\u001b[0merrno\u001b[0m \u001b[0;34m==\u001b[0m \u001b[0merrno\u001b[0m\u001b[0;34m.\u001b[0m\u001b[0mEACCES\u001b[0m\u001b[0;34m:\u001b[0m\u001b[0;34m\u001b[0m\u001b[0m\n",
      "\u001b[0;31mWebDriverException\u001b[0m: Message: 'chromedriver' executable needs to be in PATH. Please see https://sites.google.com/a/chromium.org/chromedriver/home\n"
     ]
    }
   ],
   "source": [
    "a='http://log.tichumania.de/view/pages/Games.php?player=ellezar'\n",
    "print scrape_url(a)"
   ]
  },
  {
   "cell_type": "code",
   "execution_count": null,
   "metadata": {
    "collapsed": true
   },
   "outputs": [],
   "source": []
  }
 ],
 "metadata": {
  "kernelspec": {
   "display_name": "Python 2",
   "language": "python",
   "name": "python2"
  },
  "language_info": {
   "codemirror_mode": {
    "name": "ipython",
    "version": 2
   },
   "file_extension": ".py",
   "mimetype": "text/x-python",
   "name": "python",
   "nbconvert_exporter": "python",
   "pygments_lexer": "ipython2",
   "version": "2.7.11"
  }
 },
 "nbformat": 4,
 "nbformat_minor": 1
}
