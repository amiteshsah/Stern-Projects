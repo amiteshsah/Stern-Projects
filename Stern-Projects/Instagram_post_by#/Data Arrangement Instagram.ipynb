{
 "cells": [
  {
   "cell_type": "code",
   "execution_count": 6,
   "metadata": {
    "collapsed": false
   },
   "outputs": [
    {
     "name": "stdout",
     "output_type": "stream",
     "text": [
      "[u'Comments', u'Date_posted', u'Hashtag_list', u'Likes', u'Post', u'Post_url', u'Username', u'image_urls', u'images']\n",
      "The column names:\n",
      "[u'Date_posted', u'Username', u'Post', u'Hashtag_list', u'Likes', u'Comments', u'Post_url', u'image_urls', u'images']\n",
      "\n",
      "The length of dataframe:3213\n"
     ]
    }
   ],
   "source": [
    "#Instagram Data arrangement into table and storing into excel sheet for visualization\n",
    "#images are in instagram_images2\n",
    "#This code is arrangement of #nomoney\n",
    "import pandas as pd\n",
    "import numpy as np\n",
    "from pandas import DataFrame, Series\n",
    "import json\n",
    "\n",
    "#with open(\"instagram_data_extraction/instagram_data_extraction/result2.json\") as nomoney:\n",
    "with open(\"instagram_data_extraction/instagram_data_extraction/result_rich.json\") as rich:\n",
    "    nomoney_data = json.load(rich)\n",
    "\n",
    "df1=DataFrame.from_dict(nomoney_data,orient='columns')\n",
    "\n",
    "cols = df1.columns.tolist()\n",
    "print cols\n",
    "#Ordering of the columns\n",
    "cols=cols[1:2]+cols[6:7]+cols[4:5]+cols[2:4]+cols[0:1]+cols[5:6]+cols[7:9]\n",
    "df1=df1[cols]\n",
    "print \"The column names:\\n\"+str(df1.columns.tolist())\n",
    "print \"\\nThe length of dataframe:\"+str(len(df1['Username']))\n",
    "\n"
   ]
  },
  {
   "cell_type": "code",
   "execution_count": 7,
   "metadata": {
    "collapsed": false
   },
   "outputs": [],
   "source": [
    "#u'Date_posted', u'Username', u'Post', u'Hashtag_list', u'Likes', u'Comments', u'Post_url', u'image_urls', u'images']\n",
    "df1\n",
    "df1.to_pickle('instagram_rich.pkl')\n",
    "#df = pd.read_pickle(file_name) # you can load it back using:\n",
    "\n",
    "writer = pd.ExcelWriter('instagram_rich_xl.xlsx', engine='xlsxwriter',options={'strings_to_urls': False})\n",
    "# Convert the dataframe to an XlsxWriter Excel object.\n",
    "df1.to_excel(writer)\n",
    "# Close the Pandas Excel writer and output the Excel file.\n",
    "writer.save()"
   ]
  },
  {
   "cell_type": "code",
   "execution_count": null,
   "metadata": {
    "collapsed": true
   },
   "outputs": [],
   "source": []
  },
  {
   "cell_type": "code",
   "execution_count": null,
   "metadata": {
    "collapsed": true
   },
   "outputs": [],
   "source": []
  }
 ],
 "metadata": {
  "kernelspec": {
   "display_name": "Python 2",
   "language": "python",
   "name": "python2"
  },
  "language_info": {
   "codemirror_mode": {
    "name": "ipython",
    "version": 2
   },
   "file_extension": ".py",
   "mimetype": "text/x-python",
   "name": "python",
   "nbconvert_exporter": "python",
   "pygments_lexer": "ipython2",
   "version": "2.7.11"
  }
 },
 "nbformat": 4,
 "nbformat_minor": 1
}
